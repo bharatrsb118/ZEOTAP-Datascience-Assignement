{
 "cells": [
  {
   "cell_type": "markdown",
   "metadata": {},
   "source": [
    "# Import Required Libraries\n",
    "Import necessary libraries such as pandas, numpy, matplotlib, and seaborn."
   ]
  },
  {
   "cell_type": "code",
   "execution_count": null,
   "metadata": {},
   "outputs": [],
   "source": [
    "# Import Required Libraries\n",
    "import pandas as pd\n",
    "import numpy as np\n",
    "import matplotlib.pyplot as plt\n",
    "import seaborn as sns\n",
    "\n",
    "# Set plot style for seaborn\n",
    "sns.set(style=\"whitegrid\")"
   ]
  },
  {
   "cell_type": "markdown",
   "metadata": {},
   "source": [
    "# Load Datasets\n",
    "Load the transactions, products, and customers datasets into pandas DataFrames."
   ]
  },
  {
   "cell_type": "code",
   "execution_count": null,
   "metadata": {},
   "outputs": [],
   "source": [
    "# Load Datasets\n",
    "\n",
    "# Load transactions dataset\n",
    "transactions = pd.read_csv('transactions.csv')\n",
    "\n",
    "# Load products dataset\n",
    "products = pd.read_csv('products.csv')\n",
    "\n",
    "# Load customers dataset\n",
    "customers = pd.read_csv('customers.csv')\n",
    "\n",
    "# Display the first few rows of each dataset to verify loading\n",
    "print(\"Transactions Dataset:\")\n",
    "print(transactions.head())\n",
    "\n",
    "print(\"\\nProducts Dataset:\")\n",
    "print(products.head())\n",
    "\n",
    "print(\"\\nCustomers Dataset:\")\n",
    "print(customers.head())"
   ]
  },
  {
   "cell_type": "markdown",
   "metadata": {},
   "source": [
    "# Data Cleaning\n",
    "Handle missing values, correct data types, and remove duplicates if any."
   ]
  },
  {
   "cell_type": "code",
   "execution_count": null,
   "metadata": {},
   "outputs": [],
   "source": [
    "# Data Cleaning\n",
    "\n",
    "# Handle missing values\n",
    "print(\"Missing values in transactions dataset:\")\n",
    "print(transactions.isnull().sum())\n",
    "\n",
    "print(\"\\nMissing values in products dataset:\")\n",
    "print(products.isnull().sum())\n",
    "\n",
    "print(\"\\nMissing values in customers dataset:\")\n",
    "print(customers.isnull().sum())\n",
    "\n",
    "# Drop rows with missing values in transactions dataset\n",
    "transactions.dropna(inplace=True)\n",
    "\n",
    "# Drop rows with missing values in products dataset\n",
    "products.dropna(inplace=True)\n",
    "\n",
    "# Drop rows with missing values in customers dataset\n",
    "customers.dropna(inplace=True)\n",
    "\n",
    "# Correct data types\n",
    "transactions['TransactionDate'] = pd.to_datetime(transactions['TransactionDate'])\n",
    "customers['SignupDate'] = pd.to_datetime(customers['SignupDate'])\n",
    "\n",
    "# Remove duplicates if any\n",
    "transactions.drop_duplicates(inplace=True)\n",
    "products.drop_duplicates(inplace=True)\n",
    "customers.drop_duplicates(inplace=True)\n",
    "\n",
    "# Verify data cleaning\n",
    "print(\"\\nTransactions Dataset after cleaning:\")\n",
    "print(transactions.info())\n",
    "\n",
    "print(\"\\nProducts Dataset after cleaning:\")\n",
    "print(products.info())\n",
    "\n",
    "print(\"\\nCustomers Dataset after cleaning:\")\n",
    "print(customers.info())"
   ]
  },
  {
   "cell_type": "markdown",
   "metadata": {},
   "source": [
    "# Summary Statistics\n",
    "Generate summary statistics for the datasets to understand the basic metrics."
   ]
  },
  {
   "cell_type": "code",
   "execution_count": null,
   "metadata": {},
   "outputs": [],
   "source": [
    "# Summary Statistics\n",
    "\n",
    "# Summary statistics for transactions dataset\n",
    "print(\"Summary Statistics for Transactions Dataset:\")\n",
    "print(transactions.describe())\n",
    "\n",
    "# Summary statistics for products dataset\n",
    "print(\"\\nSummary Statistics for Products Dataset:\")\n",
    "print(products.describe())\n",
    "\n",
    "# Summary statistics for customers dataset\n",
    "print(\"\\nSummary Statistics for Customers Dataset:\")\n",
    "print(customers.describe())\n",
    "\n",
    "# Additional summary statistics for categorical columns in products dataset\n",
    "print(\"\\nSummary Statistics for Categorical Columns in Products Dataset:\")\n",
    "print(products.describe(include=['object']))\n",
    "\n",
    "# Additional summary statistics for categorical columns in customers dataset\n",
    "print(\"\\nSummary Statistics for Categorical Columns in Customers Dataset:\")\n",
    "print(customers.describe(include=['object']))"
   ]
  },
  {
   "cell_type": "markdown",
   "metadata": {},
   "source": [
    "# Distribution of Transactions Over Time\n",
    "Analyze the distribution of transactions over different time periods (e.g., months, quarters)."
   ]
  },
  {
   "cell_type": "code",
   "execution_count": null,
   "metadata": {},
   "outputs": [],
   "source": [
    "# Distribution of Transactions Over Time\n",
    "\n",
    "# Extract month and year from TransactionDate\n",
    "transactions['YearMonth'] = transactions['TransactionDate'].dt.to_period('M')\n",
    "\n",
    "# Group by YearMonth and count transactions\n",
    "monthly_transactions = transactions.groupby('YearMonth').size()\n",
    "\n",
    "# Plot the distribution of transactions over time\n",
    "plt.figure(figsize=(12, 6))\n",
    "monthly_transactions.plot(kind='bar', color='skyblue')\n",
    "plt.title('Distribution of Transactions Over Time')\n",
    "plt.xlabel('Year-Month')\n",
    "plt.ylabel('Number of Transactions')\n",
    "plt.xticks(rotation=45)\n",
    "plt.show()"
   ]
  },
  {
   "cell_type": "markdown",
   "metadata": {},
   "source": [
    "# Top Selling Products\n",
    "Identify the top-selling products based on the total sales value and quantity sold."
   ]
  },
  {
   "cell_type": "code",
   "execution_count": null,
   "metadata": {},
   "outputs": [],
   "source": [
    "# Top Selling Products\n",
    "\n",
    "# Merge transactions with products to get product details\n",
    "merged_data = pd.merge(transactions, products, on='ProductID')\n",
    "\n",
    "# Group by ProductID and calculate total sales value and quantity sold\n",
    "product_sales = merged_data.groupby('ProductID').agg({\n",
    "    'TotalValue': 'sum',\n",
    "    'Quantity': 'sum'\n",
    "}).reset_index()\n",
    "\n",
    "# Merge with products to get product names\n",
    "product_sales = pd.merge(product_sales, products[['ProductID', 'ProductName']], on='ProductID')\n",
    "\n",
    "# Sort by total sales value and quantity sold\n",
    "top_selling_by_value = product_sales.sort_values(by='TotalValue', ascending=False).head(10)\n",
    "top_selling_by_quantity = product_sales.sort_values(by='Quantity', ascending=False).head(10)\n",
    "\n",
    "# Plot top selling products by total sales value\n",
    "plt.figure(figsize=(12, 6))\n",
    "sns.barplot(x='TotalValue', y='ProductName', data=top_selling_by_value, palette='viridis')\n",
    "plt.title('Top 10 Selling Products by Total Sales Value')\n",
    "plt.xlabel('Total Sales Value')\n",
    "plt.ylabel('Product Name')\n",
    "plt.show()\n",
    "\n",
    "# Plot top selling products by quantity sold\n",
    "plt.figure(figsize=(12, 6))\n",
    "sns.barplot(x='Quantity', y='ProductName', data=top_selling_by_quantity, palette='viridis')\n",
    "plt.title('Top 10 Selling Products by Quantity Sold')\n",
    "plt.xlabel('Quantity Sold')\n",
    "plt.ylabel('Product Name')\n",
    "plt.show()"
   ]
  },
  {
   "cell_type": "markdown",
   "metadata": {},
   "source": [
    "# Customer Demographics\n",
    "Analyze customer demographics such as region and signup date."
   ]
  },
  {
   "cell_type": "code",
   "execution_count": null,
   "metadata": {},
   "outputs": [],
   "source": [
    "# Customer Demographics\n",
    "\n",
    "# Analyze customer demographics such as region and signup date\n",
    "\n",
    "# Distribution of Customers by Region\n",
    "plt.figure(figsize=(10, 6))\n",
    "sns.countplot(y='Region', data=customers, palette='pastel', order=customers['Region'].value_counts().index)\n",
    "plt.title('Distribution of Customers by Region')\n",
    "plt.xlabel('Number of Customers')\n",
    "plt.ylabel('Region')\n",
    "plt.show()\n",
    "\n",
    "# Distribution of Customer Signups Over Time\n",
    "customers['SignupYearMonth'] = customers['SignupDate'].dt.to_period('M')\n",
    "signup_trend = customers.groupby('SignupYearMonth').size()\n",
    "\n",
    "plt.figure(figsize=(12, 6))\n",
    "signup_trend.plot(kind='bar', color='lightcoral')\n",
    "plt.title('Customer Signups Over Time')\n",
    "plt.xlabel('Year-Month')\n",
    "plt.ylabel('Number of Signups')\n",
    "plt.xticks(rotation=45)\n",
    "plt.show()\n",
    "\n",
    "# Summary Statistics for Customer Signups by Region\n",
    "signup_by_region = customers.groupby('Region').size().reset_index(name='Number of Signups')\n",
    "print(\"Summary Statistics for Customer Signups by Region:\")\n",
    "print(signup_by_region)\n",
    "\n",
    "# Average Signup Date by Region\n",
    "avg_signup_date_by_region = customers.groupby('Region')['SignupDate'].mean().reset_index()\n",
    "print(\"\\nAverage Signup Date by Region:\")\n",
    "print(avg_signup_date_by_region)\n",
    "\n",
    "# Plot Average Signup Date by Region\n",
    "plt.figure(figsize=(10, 6))\n",
    "sns.barplot(x='SignupDate', y='Region', data=avg_signup_date_by_region, palette='coolwarm')\n",
    "plt.title('Average Signup Date by Region')\n",
    "plt.xlabel('Average Signup Date')\n",
    "plt.ylabel('Region')\n",
    "plt.show()"
   ]
  },
  {
   "cell_type": "markdown",
   "metadata": {},
   "source": [
    "# Sales by Region\n",
    "Analyze sales distribution across different regions."
   ]
  },
  {
   "cell_type": "code",
   "execution_count": null,
   "metadata": {},
   "outputs": [],
   "source": [
    "# Sales by Region\n",
    "\n",
    "# Merge transactions with customers to get customer details\n",
    "transactions_customers = pd.merge(transactions, customers, on='CustomerID')\n",
    "\n",
    "# Group by Region and calculate total sales value and quantity sold\n",
    "sales_by_region = transactions_customers.groupby('Region').agg({\n",
    "    'TotalValue': 'sum',\n",
    "    'Quantity': 'sum'\n",
    "}).reset_index()\n",
    "\n",
    "# Plot total sales value by region\n",
    "plt.figure(figsize=(12, 6))\n",
    "sns.barplot(x='TotalValue', y='Region', data=sales_by_region, palette='magma')\n",
    "plt.title('Total Sales Value by Region')\n",
    "plt.xlabel('Total Sales Value')\n",
    "plt.ylabel('Region')\n",
    "plt.show()\n",
    "\n",
    "# Plot quantity sold by region\n",
    "plt.figure(figsize=(12, 6))\n",
    "sns.barplot(x='Quantity', y='Region', data=sales_by_region, palette='magma')\n",
    "plt.title('Quantity Sold by Region')\n",
    "plt.xlabel('Quantity Sold')\n",
    "plt.ylabel('Region')\n",
    "plt.show()\n",
    "\n",
    "# Display sales by region data\n",
    "print(\"Sales by Region:\")\n",
    "print(sales_by_region)"
   ]
  },
  {
   "cell_type": "markdown",
   "metadata": {},
   "source": [
    "# Derive Business Insights\n",
    "Derive at least 5 business insights from the EDA and write them in short point-wise sentences."
   ]
  },
  {
   "cell_type": "code",
   "execution_count": null,
   "metadata": {},
   "outputs": [],
   "source": [
    "# Derive Business Insights\n",
    "\n",
    "# Insight 1: Top Selling Products by Total Sales Value\n",
    "top_selling_by_value_insight = top_selling_by_value[['ProductName', 'TotalValue']]\n",
    "print(\"Top Selling Products by Total Sales Value:\")\n",
    "print(top_selling_by_value_insight)\n",
    "\n",
    "# Insight 2: Top Selling Products by Quantity Sold\n",
    "top_selling_by_quantity_insight = top_selling_by_quantity[['ProductName', 'Quantity']]\n",
    "print(\"\\nTop Selling Products by Quantity Sold:\")\n",
    "print(top_selling_by_quantity_insight)\n",
    "\n",
    "# Insight 3: Distribution of Customers by Region\n",
    "customer_distribution_by_region = customers['Region'].value_counts().reset_index()\n",
    "customer_distribution_by_region.columns = ['Region', 'Number of Customers']\n",
    "print(\"\\nDistribution of Customers by Region:\")\n",
    "print(customer_distribution_by_region)\n",
    "\n",
    "# Insight 4: Customer Signups Over Time\n",
    "customer_signups_over_time = signup_trend.reset_index()\n",
    "customer_signups_over_time.columns = ['SignupYearMonth', 'Number of Signups']\n",
    "print(\"\\nCustomer Signups Over Time:\")\n",
    "print(customer_signups_over_time)\n",
    "\n",
    "# Insight 5: Sales by Region\n",
    "sales_by_region_insight = sales_by_region[['Region', 'TotalValue', 'Quantity']]\n",
    "print(\"\\nSales by Region:\")\n",
    "print(sales_by_region_insight)"
   ]
  }
 ],
 "metadata": {
  "language_info": {
   "name": "python"
  }
 },
 "nbformat": 4,
 "nbformat_minor": 2
}
