{
 "cells": [
  {
   "cell_type": "markdown",
   "metadata": {},
   "source": [
    "# Lookalike Model Development\n",
    "This notebook explains the development of a lookalike model that recommends similar customers based on their profile and transaction history."
   ]
  },
  {
   "cell_type": "code",
   "execution_count": 1,
   "metadata": {},
   "outputs": [],
   "source": [
    "import pandas as pd\n",
    "import numpy as np\n",
    "from sklearn.preprocessing import StandardScaler\n",
    "from sklearn.metrics.pairwise import cosine_similarity"
   ]
  },
  {
   "cell_type": "markdown",
   "metadata": {},
   "source": [
    "## Load Data\n",
    "Load and preprocess the datasets."
   ]
  },
  {
   "cell_type": "code",
   "execution_count": 2,
   "metadata": {},
   "outputs": [],
   "source": [
    "def load_data():\n",
    "    \"\"\"Load and preprocess all datasets\"\"\"\n",
    "    try:\n",
    "        customers = pd.read_csv(\"Customers.csv\")\n",
    "        products = pd.read_csv(\"Products.csv\")\n",
    "        transactions = pd.read_csv(\"Transactions.csv\")\n",
    "        \n",
    "        # Ensure consistent column names\n",
    "        transactions.rename(columns={'customer_id': 'CustomerID', \n",
    "                                  'product_id': 'ProductID'}, inplace=True)\n",
    "        return customers, products, transactions\n",
    "    except Exception as e:\n",
    "        print(f\"Error loading data: {e}\")\n",
    "        return None, None, None\n",
    "\n",
    "customers, products, transactions = load_data()\n",
    "print(\"Data loaded successfully\")\n",
    "print(\"Transactions shape:\", transactions.shape)\n",
    "print(\"Products shape:\", products.shape)\n",
    "print(\"Customers shape:\", customers.shape)"
   ]
  },
  {
   "cell_type": "markdown",
   "metadata": {},
   "source": [
    "## Create Customer Features\n",
    "Create feature vectors for each customer based on their transaction history and profile."
   ]
  },
  {
   "cell_type": "code",
   "execution_count": 3,
   "metadata": {},
   "outputs": [],
   "source": [
    "def create_customer_features(customers, transactions, products):\n",
    "    \"\"\"Create feature vectors for each customer\"\"\"\n",
    "    try:\n",
    "        # Create basic purchase statistics\n",
    "        purchase_stats = transactions.groupby('CustomerID').agg({\n",
    "            'TotalValue': ['sum', 'mean', 'count'],\n",
    "            'Quantity': ['sum', 'mean']\n",
    "        }).reset_index()\n",
    "        \n",
    "        # Flatten column names\n",
    "        purchase_stats.columns = ['CustomerID'] + [f'{col[0]}_{col[1]}' for col in purchase_stats.columns[1:]]\n",
    "        \n",
    "        # Create category preferences\n",
    "        product_categories = transactions.merge(products[['ProductID', 'Category']], on='ProductID')\n",
    "        category_pivoted = pd.crosstab(product_categories['CustomerID'], \n",
    "                                     product_categories['Category'],\n",
    "                                     normalize='index')\n",
    "        \n",
    "        # Create recency feature\n",
    "        latest_date = pd.to_datetime(transactions['TransactionDate']).max()\n",
    "        recency = (transactions.groupby('CustomerID')\n",
    "                  .agg({'TransactionDate': lambda x: (latest_date - pd.to_datetime(x).max()).days})\n",
    "                  .rename(columns={'TransactionDate': 'recency'}))\n",
    "        \n",
    "        # Create region features\n",
    "        region_dummies = pd.get_dummies(customers[['CustomerID', 'Region']], \n",
    "                                      prefix='region', \n",
    "                                      columns=['Region'])\n",
    "        \n",
    "        # Merge all features\n",
    "        final_features = (purchase_stats\n",
    "                         .merge(category_pivoted.reset_index(), on='CustomerID', how='left')\n",
    "                         .merge(recency.reset_index(), on='CustomerID', how='left')\n",
    "                         .merge(region_dummies, on='CustomerID', how='left'))\n",
    "        \n",
    "        # Fill missing values\n",
    "        final_features = final_features.fillna(0)\n",
    "        \n",
    "        return final_features\n",
    "        \n",
    "    except Exception as e:\n",
    "        print(f\"Error creating features: {e}\")\n",
    "        print(\"\\nDebugging info:\")\n",
    "        print(\"Purchase stats columns:\", purchase_stats.columns.tolist())\n",
    "        print(\"Category pivot columns:\", category_pivoted.columns.tolist())\n",
    "        print(\"Region dummy columns:\", region_dummies.columns.tolist())\n",
    "        return None\n",
    "\n",
    "features = create_customer_features(customers, transactions, products)\n",
    "print(\"\\nFeatures created successfully\")\n",
    "print(\"Feature matrix shape:\", features.shape)"
   ]
  },
  {
   "cell_type": "markdown",
   "metadata": {},
   "source": [
    "## Calculate Similarity\n",
    "Calculate similarity scores for target customers."
   ]
  },
  {
   "cell_type": "code",
   "execution_count": 4,
   "metadata": {},
   "outputs": [],
   "source": [
    "def calculate_similarity(features, target_customers):\n",
    "    \"\"\"Calculate similarity scores for target customers\"\"\"\n",
    "    try:\n",
    "        # Remove CustomerID for scaling\n",
    "        feature_cols = features.columns.difference(['CustomerID'])\n",
    "        \n",
    "        # Scale features\n",
    "        scaler = StandardScaler()\n",
    "        scaled_features = scaler.fit_transform(features[feature_cols])\n",
    "        \n",
    "        # Calculate similarity matrix\n",
    "        similarity_matrix = cosine_similarity(scaled_features)\n",
    "        \n",
    "        # Get recommendations\n",
    "        recommendations = {}\n",
    "        customer_indices = {cid: idx for idx, cid in enumerate(features['CustomerID'])}\n",
    "        \n",
    "        for target_id in target_customers:\n",
    "            if target_id in customer_indices:\n",
    "                target_idx = customer_indices[target_id]\n",
    "                scores = similarity_matrix[target_idx]\n",
    "                # Get top 3 similar customers (excluding self)\n",
    "                similar_indices = np.argsort(scores)[-4:][:-1][::-1]\n",
    "                \n",
    "                recommendations[target_id] = [\n",
    "                    (features['CustomerID'].iloc[idx], float(scores[idx]))\n",
    "                    for idx in similar_indices\n",
    "                ]\n",
    "        \n",
    "        return recommendations\n",
    "        \n",
    "    except Exception as e:\n",
    "        print(f\"Error calculating similarity: {e}\")\n",
    "        return None\n",
    "\n",
    "target_customers = [f'C{str(i).zfill(4)}' for i in range(1, 21)]\n",
    "recommendations = calculate_similarity(features, target_customers)\n",
    "if recommendations:\n",
    "    print(\"\\nTop 3 Lookalike Recommendations:\")\n",
    "    for cust_id, recs in recommendations.items():\n",
    "        print(f\"\\nCustomer {cust_id}:\")\n",
    "        for rec_id, score in recs:\n",
    "            print(f\"  {rec_id}: {score:.4f}\")"
   ]
  },
  {
   "cell_type": "markdown",
   "metadata": {},
   "source": [
    "## Save Recommendations\n",
    "Save the recommendations to a CSV file."
   ]
  },
  {
   "cell_type": "code",
   "execution_count": 5,
   "metadata": {},
   "outputs": [],
   "source": [
    "def save_recommendations(recommendations, output_file):\n",
    "    \"\"\"Save recommendations to CSV\"\"\"\n",
    "    try:\n",
    "        rows = []\n",
    "        for cust_id, recs in recommendations.items():\n",
    "            rec_str = ';'.join([f\"{cid},{score:.4f}\" for cid, score in recs])\n",
    "            rows.append({'CustomerID': cust_id, 'Recommendations': rec_str})\n",
    "        \n",
    "        pd.DataFrame(rows).to_csv(output_file, index=False)\n",
    "        print(f\"Recommendations saved to {output_file}\")\n",
    "        \n",
    "    except Exception as e:\n",
    "        print(f\"Error saving recommendations: {e}\")\n",
    "\n",
    "save_recommendations(recommendations, \"Lookalike.csv\")"
   ]
  }
 ],
 "metadata": {
  "kernelspec": {
   "display_name": "Python 3",
   "language": "python",
   "name": "python3"
  },
  "language_info": {
   "codemirror_mode": {
    "name": "ipython",
    "version": 3
   },
   "file_extension": ".py",
   "mimetype": "text/x-python",
   "name": "python",
   "nbconvert_exporter": "python",
   "pygments_lexer": "ipython3",
   "version": "3.8.5"
  }
 },
 "nbformat": 4,
 "nbformat_minor": 4
}
